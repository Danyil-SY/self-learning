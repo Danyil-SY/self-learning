{
 "cells": [
  {
   "cell_type": "markdown",
   "id": "d84a435f",
   "metadata": {},
   "source": [
    "# Tools - NumPy"
   ]
  },
  {
   "cell_type": "markdown",
   "id": "4d5e2285",
   "metadata": {},
   "source": [
    "This file was created solely for the purpose of practicing features of the NumPy library and doesn't serve any other specific purpose."
   ]
  },
  {
   "cell_type": "code",
   "execution_count": 3,
   "id": "5e479838",
   "metadata": {},
   "outputs": [],
   "source": [
    "import numpy as np"
   ]
  },
  {
   "cell_type": "code",
   "execution_count": 4,
   "id": "51c7e371",
   "metadata": {},
   "outputs": [
    {
     "data": {
      "text/plain": [
       "array([0., 0., 0., 0., 0., 0., 0., 0., 0., 0., 0.])"
      ]
     },
     "execution_count": 4,
     "metadata": {},
     "output_type": "execute_result"
    }
   ],
   "source": [
    "np.zeros(11) # create an array containing only zeros"
   ]
  },
  {
   "cell_type": "code",
   "execution_count": 12,
   "id": "2ea0720c",
   "metadata": {},
   "outputs": [
    {
     "data": {
      "text/plain": [
       "array([[0., 0., 0., 0., 0., 0., 0., 0.],\n",
       "       [0., 0., 0., 0., 0., 0., 0., 0.],\n",
       "       [0., 0., 0., 0., 0., 0., 0., 0.],\n",
       "       [0., 0., 0., 0., 0., 0., 0., 0.],\n",
       "       [0., 0., 0., 0., 0., 0., 0., 0.]])"
      ]
     },
     "execution_count": 12,
     "metadata": {},
     "output_type": "execute_result"
    }
   ],
   "source": [
    "np.zeros((5, 8))"
   ]
  },
  {
   "cell_type": "code",
   "execution_count": 14,
   "id": "1cc8bd2e",
   "metadata": {},
   "outputs": [
    {
     "data": {
      "text/plain": [
       "array([[0., 0., 0., 0., 0., 0., 0., 0., 0.],\n",
       "       [0., 0., 0., 0., 0., 0., 0., 0., 0.],\n",
       "       [0., 0., 0., 0., 0., 0., 0., 0., 0.],\n",
       "       [0., 0., 0., 0., 0., 0., 0., 0., 0.]])"
      ]
     },
     "execution_count": 14,
     "metadata": {},
     "output_type": "execute_result"
    }
   ],
   "source": [
    "my_array = np.zeros((4, 9))\n",
    "my_array"
   ]
  },
  {
   "cell_type": "code",
   "execution_count": 21,
   "id": "22e8a214",
   "metadata": {},
   "outputs": [
    {
     "data": {
      "text/plain": [
       "(4, 9)"
      ]
     },
     "execution_count": 21,
     "metadata": {},
     "output_type": "execute_result"
    }
   ],
   "source": [
    "my_array.shape # shape - list of axis lengths"
   ]
  },
  {
   "cell_type": "code",
   "execution_count": 20,
   "id": "453d5eda",
   "metadata": {},
   "outputs": [
    {
     "data": {
      "text/plain": [
       "2"
      ]
     },
     "execution_count": 20,
     "metadata": {},
     "output_type": "execute_result"
    }
   ],
   "source": [
    "my_array.ndim # rank - number of axes (dimensions)"
   ]
  },
  {
   "cell_type": "code",
   "execution_count": 19,
   "id": "4cfbade8",
   "metadata": {},
   "outputs": [
    {
     "data": {
      "text/plain": [
       "36"
      ]
     },
     "execution_count": 19,
     "metadata": {},
     "output_type": "execute_result"
    }
   ],
   "source": [
    "my_array.size # size, 4 * 9 = 36"
   ]
  },
  {
   "cell_type": "code",
   "execution_count": 25,
   "id": "345599a5",
   "metadata": {},
   "outputs": [
    {
     "data": {
      "text/plain": [
       "array([[[0., 0., 0., 0., 0., 0.],\n",
       "        [0., 0., 0., 0., 0., 0.]],\n",
       "\n",
       "       [[0., 0., 0., 0., 0., 0.],\n",
       "        [0., 0., 0., 0., 0., 0.]],\n",
       "\n",
       "       [[0., 0., 0., 0., 0., 0.],\n",
       "        [0., 0., 0., 0., 0., 0.]]])"
      ]
     },
     "execution_count": 25,
     "metadata": {},
     "output_type": "execute_result"
    }
   ],
   "source": [
    "dim_3_array = np.zeros((3, 2, 6)) # the 3-dimensional array\n",
    "dim_3_array"
   ]
  },
  {
   "cell_type": "code",
   "execution_count": 27,
   "id": "626e2f09",
   "metadata": {},
   "outputs": [
    {
     "data": {
      "text/plain": [
       "numpy.ndarray"
      ]
     },
     "execution_count": 27,
     "metadata": {},
     "output_type": "execute_result"
    }
   ],
   "source": [
    "type(dim_3_array)"
   ]
  },
  {
   "cell_type": "code",
   "execution_count": 30,
   "id": "571d7850",
   "metadata": {},
   "outputs": [
    {
     "data": {
      "text/plain": [
       "array([[1., 1., 1.],\n",
       "       [1., 1., 1.]])"
      ]
     },
     "execution_count": 30,
     "metadata": {},
     "output_type": "execute_result"
    }
   ],
   "source": [
    "np.ones((2, 3)) # array full of ones"
   ]
  },
  {
   "cell_type": "code",
   "execution_count": 35,
   "id": "ab388a21",
   "metadata": {},
   "outputs": [
    {
     "data": {
      "text/plain": [
       "array([[inf, inf, inf],\n",
       "       [inf, inf, inf]])"
      ]
     },
     "execution_count": 35,
     "metadata": {},
     "output_type": "execute_result"
    }
   ],
   "source": [
    "np.full((2, 3), np.Inf) # array full of infinities"
   ]
  },
  {
   "cell_type": "code",
   "execution_count": 45,
   "id": "fa158322",
   "metadata": {},
   "outputs": [
    {
     "data": {
      "text/plain": [
       "array([[inf, inf, inf],\n",
       "       [inf, inf, inf]])"
      ]
     },
     "execution_count": 45,
     "metadata": {},
     "output_type": "execute_result"
    }
   ],
   "source": [
    "np.empty((2, 3)) # array with elements that are in memory at this point"
   ]
  },
  {
   "cell_type": "code",
   "execution_count": 44,
   "id": "47046a56",
   "metadata": {},
   "outputs": [
    {
     "data": {
      "text/plain": [
       "array([[6.23042070e-307, 4.67296746e-307, 1.69121096e-306],\n",
       "       [1.69119330e-306, 6.23059386e-307, 2.22526399e-307],\n",
       "       [6.23053614e-307, 7.56592338e-307, 5.33590898e-322]])"
      ]
     },
     "execution_count": 44,
     "metadata": {},
     "output_type": "execute_result"
    }
   ],
   "source": [
    "np.empty((3, 3)) # same method but different \"memory location\""
   ]
  },
  {
   "cell_type": "code",
   "execution_count": 47,
   "id": "fed7ce72",
   "metadata": {},
   "outputs": [
    {
     "data": {
      "text/plain": [
       "array([[1, 2, 3],\n",
       "       [4, 5, 6]])"
      ]
     },
     "execution_count": 47,
     "metadata": {},
     "output_type": "execute_result"
    }
   ],
   "source": [
    "np.array(([1, 2, 3], [4, 5, 6])) # array initialization"
   ]
  },
  {
   "cell_type": "code",
   "execution_count": 50,
   "id": "f4884b61",
   "metadata": {},
   "outputs": [
    {
     "data": {
      "text/plain": [
       "array([1, 3, 5, 7, 9])"
      ]
     },
     "execution_count": 50,
     "metadata": {},
     "output_type": "execute_result"
    }
   ],
   "source": [
    "np.arange(1, 10, 2) # create an array using similar method to the built-in python function range()"
   ]
  },
  {
   "cell_type": "markdown",
   "id": "e14a1f43",
   "metadata": {},
   "source": [
    "It is not recommended to use floats - when dealing with floats, the exact number of elements in the array is not always predictable."
   ]
  },
  {
   "cell_type": "code",
   "execution_count": 52,
   "id": "bdbbc554",
   "metadata": {},
   "outputs": [
    {
     "data": {
      "text/plain": [
       "array([0.        , 0.33333333, 0.66666667, 1.        , 1.33333333,\n",
       "       1.66666667])"
      ]
     },
     "execution_count": 52,
     "metadata": {},
     "output_type": "execute_result"
    }
   ],
   "source": [
    "np.arange(0, 5/3, 1/3) # "
   ]
  },
  {
   "cell_type": "code",
   "execution_count": null,
   "id": "8122b7ee",
   "metadata": {},
   "outputs": [],
   "source": []
  }
 ],
 "metadata": {
  "kernelspec": {
   "display_name": "Python 3 (ipykernel)",
   "language": "python",
   "name": "python3"
  },
  "language_info": {
   "codemirror_mode": {
    "name": "ipython",
    "version": 3
   },
   "file_extension": ".py",
   "mimetype": "text/x-python",
   "name": "python",
   "nbconvert_exporter": "python",
   "pygments_lexer": "ipython3",
   "version": "3.10.13"
  }
 },
 "nbformat": 4,
 "nbformat_minor": 5
}
