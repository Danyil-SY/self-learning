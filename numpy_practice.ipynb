{
 "cells": [
  {
   "cell_type": "markdown",
   "id": "d84a435f",
   "metadata": {},
   "source": [
    "# Tools - NumPy"
   ]
  },
  {
   "cell_type": "markdown",
   "id": "4d5e2285",
   "metadata": {},
   "source": [
    "This file was created solely for the purpose of practicing features of the NumPy library and doesn't serve any other specific purpose."
   ]
  },
  {
   "cell_type": "code",
   "execution_count": 3,
   "id": "5e479838",
   "metadata": {},
   "outputs": [],
   "source": [
    "import numpy as np"
   ]
  },
  {
   "cell_type": "code",
   "execution_count": 4,
   "id": "51c7e371",
   "metadata": {},
   "outputs": [
    {
     "data": {
      "text/plain": [
       "array([0., 0., 0., 0., 0., 0., 0., 0., 0., 0., 0.])"
      ]
     },
     "execution_count": 4,
     "metadata": {},
     "output_type": "execute_result"
    }
   ],
   "source": [
    "np.zeros(11) # create an array containing only zeros"
   ]
  },
  {
   "cell_type": "code",
   "execution_count": 5,
   "id": "2ea0720c",
   "metadata": {},
   "outputs": [
    {
     "data": {
      "text/plain": [
       "array([[0., 0., 0., 0., 0., 0., 0., 0.],\n",
       "       [0., 0., 0., 0., 0., 0., 0., 0.],\n",
       "       [0., 0., 0., 0., 0., 0., 0., 0.],\n",
       "       [0., 0., 0., 0., 0., 0., 0., 0.],\n",
       "       [0., 0., 0., 0., 0., 0., 0., 0.]])"
      ]
     },
     "execution_count": 5,
     "metadata": {},
     "output_type": "execute_result"
    }
   ],
   "source": [
    "np.zeros((5, 8))"
   ]
  },
  {
   "cell_type": "code",
   "execution_count": 6,
   "id": "1cc8bd2e",
   "metadata": {},
   "outputs": [
    {
     "data": {
      "text/plain": [
       "array([[0., 0., 0., 0., 0., 0., 0., 0., 0.],\n",
       "       [0., 0., 0., 0., 0., 0., 0., 0., 0.],\n",
       "       [0., 0., 0., 0., 0., 0., 0., 0., 0.],\n",
       "       [0., 0., 0., 0., 0., 0., 0., 0., 0.]])"
      ]
     },
     "execution_count": 6,
     "metadata": {},
     "output_type": "execute_result"
    }
   ],
   "source": [
    "my_array = np.zeros((4, 9))\n",
    "my_array"
   ]
  },
  {
   "cell_type": "code",
   "execution_count": 7,
   "id": "22e8a214",
   "metadata": {},
   "outputs": [
    {
     "data": {
      "text/plain": [
       "(4, 9)"
      ]
     },
     "execution_count": 7,
     "metadata": {},
     "output_type": "execute_result"
    }
   ],
   "source": [
    "my_array.shape # shape - list of axis lengths"
   ]
  },
  {
   "cell_type": "code",
   "execution_count": 8,
   "id": "453d5eda",
   "metadata": {},
   "outputs": [
    {
     "data": {
      "text/plain": [
       "2"
      ]
     },
     "execution_count": 8,
     "metadata": {},
     "output_type": "execute_result"
    }
   ],
   "source": [
    "my_array.ndim # rank - number of axes (dimensions)"
   ]
  },
  {
   "cell_type": "code",
   "execution_count": 9,
   "id": "4cfbade8",
   "metadata": {},
   "outputs": [
    {
     "data": {
      "text/plain": [
       "36"
      ]
     },
     "execution_count": 9,
     "metadata": {},
     "output_type": "execute_result"
    }
   ],
   "source": [
    "my_array.size # size, 4 * 9 = 36"
   ]
  },
  {
   "cell_type": "code",
   "execution_count": 10,
   "id": "345599a5",
   "metadata": {},
   "outputs": [
    {
     "data": {
      "text/plain": [
       "array([[[0., 0., 0., 0., 0., 0.],\n",
       "        [0., 0., 0., 0., 0., 0.]],\n",
       "\n",
       "       [[0., 0., 0., 0., 0., 0.],\n",
       "        [0., 0., 0., 0., 0., 0.]],\n",
       "\n",
       "       [[0., 0., 0., 0., 0., 0.],\n",
       "        [0., 0., 0., 0., 0., 0.]]])"
      ]
     },
     "execution_count": 10,
     "metadata": {},
     "output_type": "execute_result"
    }
   ],
   "source": [
    "dim_3_array = np.zeros((3, 2, 6)) # the 3-dimensional array\n",
    "dim_3_array"
   ]
  },
  {
   "cell_type": "code",
   "execution_count": 11,
   "id": "626e2f09",
   "metadata": {},
   "outputs": [
    {
     "data": {
      "text/plain": [
       "numpy.ndarray"
      ]
     },
     "execution_count": 11,
     "metadata": {},
     "output_type": "execute_result"
    }
   ],
   "source": [
    "type(dim_3_array)"
   ]
  },
  {
   "cell_type": "code",
   "execution_count": 12,
   "id": "571d7850",
   "metadata": {},
   "outputs": [
    {
     "data": {
      "text/plain": [
       "array([[1., 1., 1.],\n",
       "       [1., 1., 1.]])"
      ]
     },
     "execution_count": 12,
     "metadata": {},
     "output_type": "execute_result"
    }
   ],
   "source": [
    "np.ones((2, 3)) # array full of ones"
   ]
  },
  {
   "cell_type": "code",
   "execution_count": 13,
   "id": "ab388a21",
   "metadata": {},
   "outputs": [
    {
     "data": {
      "text/plain": [
       "array([[inf, inf, inf],\n",
       "       [inf, inf, inf]])"
      ]
     },
     "execution_count": 13,
     "metadata": {},
     "output_type": "execute_result"
    }
   ],
   "source": [
    "np.full((2, 3), np.Inf) # array full of infinities"
   ]
  },
  {
   "cell_type": "code",
   "execution_count": 14,
   "id": "fa158322",
   "metadata": {},
   "outputs": [
    {
     "data": {
      "text/plain": [
       "array([[inf, inf, inf],\n",
       "       [inf, inf, inf]])"
      ]
     },
     "execution_count": 14,
     "metadata": {},
     "output_type": "execute_result"
    }
   ],
   "source": [
    "np.empty((2, 3)) # array with elements that are in memory at this point"
   ]
  },
  {
   "cell_type": "code",
   "execution_count": 25,
   "id": "47046a56",
   "metadata": {},
   "outputs": [
    {
     "data": {
      "text/plain": [
       "array([[0.00000000e+000, 0.00000000e+000, 0.00000000e+000],\n",
       "       [0.00000000e+000, 0.00000000e+000, 7.05525742e-321],\n",
       "       [1.05699242e-307, 3.11523242e-307, 9.70157962e+189]])"
      ]
     },
     "execution_count": 25,
     "metadata": {},
     "output_type": "execute_result"
    }
   ],
   "source": [
    "np.empty((3, 3)) # same method but different \"memory location\" of the elements"
   ]
  },
  {
   "cell_type": "code",
   "execution_count": 16,
   "id": "fed7ce72",
   "metadata": {},
   "outputs": [
    {
     "data": {
      "text/plain": [
       "array([[1, 2, 3],\n",
       "       [4, 5, 6]])"
      ]
     },
     "execution_count": 16,
     "metadata": {},
     "output_type": "execute_result"
    }
   ],
   "source": [
    "np.array(([1, 2, 3], [4, 5, 6])) # array initialization"
   ]
  },
  {
   "cell_type": "code",
   "execution_count": 17,
   "id": "f4884b61",
   "metadata": {},
   "outputs": [
    {
     "data": {
      "text/plain": [
       "array([1, 3, 5, 7, 9])"
      ]
     },
     "execution_count": 17,
     "metadata": {},
     "output_type": "execute_result"
    }
   ],
   "source": [
    "np.arange(1, 10, 2) # create an array using similar method to the built-in python function range()"
   ]
  },
  {
   "cell_type": "markdown",
   "id": "e14a1f43",
   "metadata": {},
   "source": [
    "It is not recommended to use floats - when dealing with floats, the exact number of elements in the array is not always predictable."
   ]
  },
  {
   "cell_type": "code",
   "execution_count": 18,
   "id": "bdbbc554",
   "metadata": {},
   "outputs": [
    {
     "data": {
      "text/plain": [
       "array([0.        , 0.33333333, 0.66666667, 1.        , 1.33333333,\n",
       "       1.66666667])"
      ]
     },
     "execution_count": 18,
     "metadata": {},
     "output_type": "execute_result"
    }
   ],
   "source": [
    "np.arange(0, 5/3, 1/3) # "
   ]
  },
  {
   "cell_type": "code",
   "execution_count": 24,
   "id": "8122b7ee",
   "metadata": {},
   "outputs": [
    {
     "data": {
      "text/plain": [
       "array([0.        , 0.33333333, 0.66666667, 1.        , 1.33333333,\n",
       "       1.66666667])"
      ]
     },
     "execution_count": 24,
     "metadata": {},
     "output_type": "execute_result"
    }
   ],
   "source": [
    "np.linspace(0, 5/3, 6) # return an array containing a specific number of points evenly distributed between two values"
   ]
  },
  {
   "cell_type": "code",
   "execution_count": 29,
   "id": "a843caaf",
   "metadata": {},
   "outputs": [
    {
     "data": {
      "text/plain": [
       "array([[0.48298344, 0.22478655, 0.50973148, 0.60505406, 0.33086496],\n",
       "       [0.3539442 , 0.36854656, 0.10863308, 0.34515902, 0.18833378],\n",
       "       [0.2576204 , 0.31119987, 0.82130021, 0.54755196, 0.73119111]])"
      ]
     },
     "execution_count": 29,
     "metadata": {},
     "output_type": "execute_result"
    }
   ],
   "source": [
    "np.random.rand(3, 5) # array with random elements (uniform distribution)"
   ]
  },
  {
   "cell_type": "code",
   "execution_count": 32,
   "id": "fb467344",
   "metadata": {},
   "outputs": [
    {
     "data": {
      "text/plain": [
       "array([[-0.29464552, -0.76044162,  0.33079728,  0.32316343,  0.46816251],\n",
       "       [-0.58368163, -2.49816225,  1.00202828,  1.59221761, -0.21213308],\n",
       "       [ 0.79111481, -0.07295565,  0.74800274,  0.64409969, -1.39788541]])"
      ]
     },
     "execution_count": 32,
     "metadata": {},
     "output_type": "execute_result"
    }
   ],
   "source": [
    "np.random.randn(3, 5) # array with random elements with a normal / Gaussian distribution of mean 0 and variance 1"
   ]
  },
  {
   "cell_type": "code",
   "execution_count": 33,
   "id": "d545f21f",
   "metadata": {},
   "outputs": [],
   "source": [
    "import matplotlib.pyplot as plt"
   ]
  },
  {
   "cell_type": "code",
   "execution_count": 39,
   "id": "b300ed9c",
   "metadata": {},
   "outputs": [
    {
     "data": {
      "image/png": "[encoded data removed]",
      "text/plain": [
       "<Figure size 640x480 with 1 Axes>"
      ]
     },
     "metadata": {},
     "output_type": "display_data"
    }
   ],
   "source": [
    "# Example of the usage of the uniform and normal distribution\n",
    "plt.hist(np.random.rand(100_000), density=True, bins=100, histtype='step', color='b', label='rand') # uniform\n",
    "plt.hist(np.random.randn(100_000), density=True, bins=100, histtype='step', color='r', label='randn') # normal\n",
    "plt.axis([-3, 3, 0, 1.1])\n",
    "plt.legend(loc = 'upper left')\n",
    "plt.title('Random distributions')\n",
    "plt.xlabel('Value')\n",
    "plt.ylabel('Density')\n",
    "plt.show()"
   ]
  },
  {
   "cell_type": "code",
   "execution_count": 50,
   "id": "313942ed",
   "metadata": {},
   "outputs": [
    {
     "data": {
      "text/plain": [
       "array([[[0.00000000e+00, 2.00000000e+00, 4.00000000e+00, 6.00000000e+00,\n",
       "         8.00000000e+00, 1.00000000e+01, 1.20000000e+01, 1.40000000e+01,\n",
       "         1.60000000e+01, 1.80000000e+01, 2.00000000e+01, 2.20000000e+01,\n",
       "         2.40000000e+01, 2.60000000e+01, 2.80000000e+01, 3.00000000e+01,\n",
       "         3.20000000e+01, 3.40000000e+01, 3.60000000e+01, 3.80000000e+01,\n",
       "         4.00000000e+01, 4.20000000e+01, 4.40000000e+01, 4.60000000e+01,\n",
       "         4.80000000e+01, 5.00000000e+01, 5.20000000e+01, 5.40000000e+01,\n",
       "         5.60000000e+01, 5.80000000e+01, 6.00000000e+01, 6.20000000e+01,\n",
       "         6.40000000e+01, 6.60000000e+01, 6.80000000e+01, 7.00000000e+01,\n",
       "         7.20000000e+01, 7.40000000e+01, 7.60000000e+01, 7.80000000e+01,\n",
       "         8.00000000e+01, 8.20000000e+01, 8.40000000e+01, 8.60000000e+01,\n",
       "         8.80000000e+01, 9.00000000e+01, 9.20000000e+01, 9.40000000e+01,\n",
       "         9.60000000e+01, 9.80000000e+01, 1.00000000e+02, 1.02000000e+02,\n",
       "         1.04000000e+02, 1.06000000e+02, 1.08000000e+02, 1.10000000e+02,\n",
       "         1.12000000e+02, 1.14000000e+02, 1.16000000e+02, 1.18000000e+02]],\n",
       "\n",
       "       [[3.33333333e-02, 2.03333333e+00, 4.03333333e+00, 6.03333333e+00,\n",
       "         8.03333333e+00, 1.00333333e+01, 1.20333333e+01, 1.40333333e+01,\n",
       "         1.60333333e+01, 1.80333333e+01, 2.00333333e+01, 2.20333333e+01,\n",
       "         2.40333333e+01, 2.60333333e+01, 2.80333333e+01, 3.00333333e+01,\n",
       "         3.20333333e+01, 3.40333333e+01, 3.60333333e+01, 3.80333333e+01,\n",
       "         4.00333333e+01, 4.20333333e+01, 4.40333333e+01, 4.60333333e+01,\n",
       "         4.80333333e+01, 5.00333333e+01, 5.20333333e+01, 5.40333333e+01,\n",
       "         5.60333333e+01, 5.80333333e+01, 6.00333333e+01, 6.20333333e+01,\n",
       "         6.40333333e+01, 6.60333333e+01, 6.80333333e+01, 7.00333333e+01,\n",
       "         7.20333333e+01, 7.40333333e+01, 7.60333333e+01, 7.80333333e+01,\n",
       "         8.00333333e+01, 8.20333333e+01, 8.40333333e+01, 8.60333333e+01,\n",
       "         8.80333333e+01, 9.00333333e+01, 9.20333333e+01, 9.40333333e+01,\n",
       "         9.60333333e+01, 9.80333333e+01, 1.00033333e+02, 1.02033333e+02,\n",
       "         1.04033333e+02, 1.06033333e+02, 1.08033333e+02, 1.10033333e+02,\n",
       "         1.12033333e+02, 1.14033333e+02, 1.16033333e+02, 1.18033333e+02]]])"
      ]
     },
     "execution_count": 50,
     "metadata": {},
     "output_type": "execute_result"
    }
   ],
   "source": [
    "def axis_function(z, y, x):\n",
    "    return x * 2 + y * 10 + z / 30 \n",
    "\n",
    "np.fromfunction(axis_function, (2, 1, 60))"
   ]
  },
  {
   "cell_type": "code",
   "execution_count": 57,
   "id": "3d0c2400",
   "metadata": {},
   "outputs": [
    {
     "name": "stdout",
     "output_type": "stream",
     "text": [
      "int32 [1 2 3 4 5 6 7 8 9]\n"
     ]
    }
   ],
   "source": [
    "c = np.arange(1, 10)\n",
    "print(c.dtype, c) # data type check using dtype attribute"
   ]
  },
  {
   "cell_type": "code",
   "execution_count": 59,
   "id": "38ac07f4",
   "metadata": {},
   "outputs": [
    {
     "name": "stdout",
     "output_type": "stream",
     "text": [
      "complex64 [1.+0.j 2.+0.j 3.+0.j 4.+0.j 5.+0.j 6.+0.j 7.+0.j 8.+0.j 9.+0.j]\n"
     ]
    }
   ],
   "source": [
    "c = np.arange(1, 10, dtype=np.complex64) # specify directly what datatype to use\n",
    "print(c.dtype, c)"
   ]
  },
  {
   "cell_type": "code",
   "execution_count": 61,
   "id": "aa44166f",
   "metadata": {},
   "outputs": [
    {
     "data": {
      "text/plain": [
       "8"
      ]
     },
     "execution_count": 61,
     "metadata": {},
     "output_type": "execute_result"
    }
   ],
   "source": [
    "c.itemsize # return the size (in bytes) of each item"
   ]
  },
  {
   "cell_type": "code",
   "execution_count": 64,
   "id": "89b45852",
   "metadata": {},
   "outputs": [
    {
     "data": {
      "text/plain": [
       "<memory at 0x00000256370AFA00>"
      ]
     },
     "execution_count": 64,
     "metadata": {},
     "output_type": "execute_result"
    }
   ],
   "source": [
    "# data buffer - return a memory location (buffer - py2, memoryview - py3) with a stored arrays \n",
    "# (that is actualy stored in memory as a flat (one dimensional) byte buffer)\n",
    "\n",
    "c.data "
   ]
  },
  {
   "cell_type": "code",
   "execution_count": null,
   "id": "3340e9cd",
   "metadata": {},
   "outputs": [],
   "source": []
  }
 ],
 "metadata": {
  "kernelspec": {
   "display_name": "Python 3 (ipykernel)",
   "language": "python",
   "name": "python3"
  },
  "language_info": {
   "codemirror_mode": {
    "name": "ipython",
    "version": 3
   },
   "file_extension": ".py",
   "mimetype": "text/x-python",
   "name": "python",
   "nbconvert_exporter": "python",
   "pygments_lexer": "ipython3",
   "version": "3.10.13"
  }
 },
 "nbformat": 4,
 "nbformat_minor": 5
}
