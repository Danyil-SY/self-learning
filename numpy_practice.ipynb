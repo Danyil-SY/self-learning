{
 "cells": [
  {
   "cell_type": "markdown",
   "id": "d84a435f",
   "metadata": {},
   "source": [
    "# Tools - NumPy"
   ]
  },
  {
   "cell_type": "markdown",
   "id": "aa8ee43b",
   "metadata": {},
   "source": [
    "## Creating arrays"
   ]
  },
  {
   "cell_type": "code",
   "execution_count": 1,
   "id": "5e479838",
   "metadata": {},
   "outputs": [],
   "source": [
    "import numpy as np"
   ]
  },
  {
   "cell_type": "code",
   "execution_count": 2,
   "id": "51c7e371",
   "metadata": {},
   "outputs": [
    {
     "data": {
      "text/plain": [
       "array([0., 0., 0., 0., 0., 0., 0., 0., 0., 0., 0.])"
      ]
     },
     "execution_count": 2,
     "metadata": {},
     "output_type": "execute_result"
    }
   ],
   "source": [
    "np.zeros(11) # create an array containing only zeros"
   ]
  },
  {
   "cell_type": "code",
   "execution_count": 3,
   "id": "2ea0720c",
   "metadata": {},
   "outputs": [
    {
     "data": {
      "text/plain": [
       "array([[0., 0., 0., 0., 0., 0., 0., 0.],\n",
       "       [0., 0., 0., 0., 0., 0., 0., 0.],\n",
       "       [0., 0., 0., 0., 0., 0., 0., 0.],\n",
       "       [0., 0., 0., 0., 0., 0., 0., 0.],\n",
       "       [0., 0., 0., 0., 0., 0., 0., 0.]])"
      ]
     },
     "execution_count": 3,
     "metadata": {},
     "output_type": "execute_result"
    }
   ],
   "source": [
    "np.zeros((5, 8))"
   ]
  },
  {
   "cell_type": "code",
   "execution_count": 4,
   "id": "1cc8bd2e",
   "metadata": {},
   "outputs": [
    {
     "data": {
      "text/plain": [
       "array([[0., 0., 0., 0., 0., 0., 0., 0., 0.],\n",
       "       [0., 0., 0., 0., 0., 0., 0., 0., 0.],\n",
       "       [0., 0., 0., 0., 0., 0., 0., 0., 0.],\n",
       "       [0., 0., 0., 0., 0., 0., 0., 0., 0.]])"
      ]
     },
     "execution_count": 4,
     "metadata": {},
     "output_type": "execute_result"
    }
   ],
   "source": [
    "my_array = np.zeros((4, 9))\n",
    "my_array"
   ]
  },
  {
   "cell_type": "code",
   "execution_count": 5,
   "id": "22e8a214",
   "metadata": {},
   "outputs": [
    {
     "data": {
      "text/plain": [
       "(4, 9)"
      ]
     },
     "execution_count": 5,
     "metadata": {},
     "output_type": "execute_result"
    }
   ],
   "source": [
    "my_array.shape # shape - list of axis lengths"
   ]
  },
  {
   "cell_type": "code",
   "execution_count": 6,
   "id": "453d5eda",
   "metadata": {},
   "outputs": [
    {
     "data": {
      "text/plain": [
       "2"
      ]
     },
     "execution_count": 6,
     "metadata": {},
     "output_type": "execute_result"
    }
   ],
   "source": [
    "my_array.ndim # rank - number of axes (dimensions)"
   ]
  },
  {
   "cell_type": "code",
   "execution_count": 7,
   "id": "4cfbade8",
   "metadata": {},
   "outputs": [
    {
     "data": {
      "text/plain": [
       "36"
      ]
     },
     "execution_count": 7,
     "metadata": {},
     "output_type": "execute_result"
    }
   ],
   "source": [
    "my_array.size # size, 4 * 9 = 36"
   ]
  },
  {
   "cell_type": "code",
   "execution_count": 8,
   "id": "345599a5",
   "metadata": {},
   "outputs": [
    {
     "data": {
      "text/plain": [
       "array([[[0., 0., 0., 0., 0., 0.],\n",
       "        [0., 0., 0., 0., 0., 0.]],\n",
       "\n",
       "       [[0., 0., 0., 0., 0., 0.],\n",
       "        [0., 0., 0., 0., 0., 0.]],\n",
       "\n",
       "       [[0., 0., 0., 0., 0., 0.],\n",
       "        [0., 0., 0., 0., 0., 0.]]])"
      ]
     },
     "execution_count": 8,
     "metadata": {},
     "output_type": "execute_result"
    }
   ],
   "source": [
    "dim_3_array = np.zeros((3, 2, 6)) # the 3-dimensional array\n",
    "dim_3_array"
   ]
  },
  {
   "cell_type": "code",
   "execution_count": 9,
   "id": "626e2f09",
   "metadata": {},
   "outputs": [
    {
     "data": {
      "text/plain": [
       "numpy.ndarray"
      ]
     },
     "execution_count": 9,
     "metadata": {},
     "output_type": "execute_result"
    }
   ],
   "source": [
    "type(dim_3_array)"
   ]
  },
  {
   "cell_type": "code",
   "execution_count": 10,
   "id": "571d7850",
   "metadata": {},
   "outputs": [
    {
     "data": {
      "text/plain": [
       "array([[1., 1., 1.],\n",
       "       [1., 1., 1.]])"
      ]
     },
     "execution_count": 10,
     "metadata": {},
     "output_type": "execute_result"
    }
   ],
   "source": [
    "np.ones((2, 3)) # array full of ones"
   ]
  },
  {
   "cell_type": "code",
   "execution_count": 11,
   "id": "ab388a21",
   "metadata": {},
   "outputs": [
    {
     "data": {
      "text/plain": [
       "array([[inf, inf, inf],\n",
       "       [inf, inf, inf]])"
      ]
     },
     "execution_count": 11,
     "metadata": {},
     "output_type": "execute_result"
    }
   ],
   "source": [
    "np.full((2, 3), np.Inf) # array full of infinities"
   ]
  },
  {
   "cell_type": "code",
   "execution_count": 12,
   "id": "fa158322",
   "metadata": {},
   "outputs": [
    {
     "data": {
      "text/plain": [
       "array([[inf, inf, inf],\n",
       "       [inf, inf, inf]])"
      ]
     },
     "execution_count": 12,
     "metadata": {},
     "output_type": "execute_result"
    }
   ],
   "source": [
    "np.empty((2, 3)) # array with elements that are in memory at this point"
   ]
  },
  {
   "cell_type": "code",
   "execution_count": 13,
   "id": "47046a56",
   "metadata": {},
   "outputs": [
    {
     "data": {
      "text/plain": [
       "array([[0.00000000e+000, 0.00000000e+000, 0.00000000e+000],\n",
       "       [0.00000000e+000, 0.00000000e+000, 6.30427764e-321],\n",
       "       [7.56592337e-307, 9.34588060e-307, 3.62651150e-317]])"
      ]
     },
     "execution_count": 13,
     "metadata": {},
     "output_type": "execute_result"
    }
   ],
   "source": [
    "np.empty((3, 3)) # same method but different \"memory location\" of the elements"
   ]
  },
  {
   "cell_type": "code",
   "execution_count": 14,
   "id": "fed7ce72",
   "metadata": {},
   "outputs": [
    {
     "data": {
      "text/plain": [
       "array([[1, 2, 3],\n",
       "       [4, 5, 6]])"
      ]
     },
     "execution_count": 14,
     "metadata": {},
     "output_type": "execute_result"
    }
   ],
   "source": [
    "np.array(([1, 2, 3], [4, 5, 6])) # array initialization"
   ]
  },
  {
   "cell_type": "code",
   "execution_count": 15,
   "id": "f4884b61",
   "metadata": {},
   "outputs": [
    {
     "data": {
      "text/plain": [
       "array([1, 3, 5, 7, 9])"
      ]
     },
     "execution_count": 15,
     "metadata": {},
     "output_type": "execute_result"
    }
   ],
   "source": [
    "np.arange(1, 10, 2) # create an array using similar method to the built-in python function range()"
   ]
  },
  {
   "cell_type": "markdown",
   "id": "e14a1f43",
   "metadata": {},
   "source": [
    "It is not recommended to use floats - when dealing with floats, the exact number of elements in the array is not always predictable."
   ]
  },
  {
   "cell_type": "code",
   "execution_count": 16,
   "id": "bdbbc554",
   "metadata": {},
   "outputs": [
    {
     "data": {
      "text/plain": [
       "array([0.        , 0.33333333, 0.66666667, 1.        , 1.33333333,\n",
       "       1.66666667])"
      ]
     },
     "execution_count": 16,
     "metadata": {},
     "output_type": "execute_result"
    }
   ],
   "source": [
    "np.arange(0, 5/3, 1/3) # "
   ]
  },
  {
   "cell_type": "code",
   "execution_count": 17,
   "id": "8122b7ee",
   "metadata": {},
   "outputs": [
    {
     "data": {
      "text/plain": [
       "array([0.        , 0.33333333, 0.66666667, 1.        , 1.33333333,\n",
       "       1.66666667])"
      ]
     },
     "execution_count": 17,
     "metadata": {},
     "output_type": "execute_result"
    }
   ],
   "source": [
    "np.linspace(0, 5/3, 6) # return an array containing a specific number of points evenly distributed between two values"
   ]
  },
  {
   "cell_type": "code",
   "execution_count": 18,
   "id": "a843caaf",
   "metadata": {},
   "outputs": [
    {
     "data": {
      "text/plain": [
       "array([[0.2046083 , 0.89778098, 0.20647132, 0.40376364, 0.71029328],\n",
       "       [0.39326562, 0.22342827, 0.89806518, 0.01953322, 0.69663006],\n",
       "       [0.05988056, 0.86892155, 0.80469656, 0.02965112, 0.19262988]])"
      ]
     },
     "execution_count": 18,
     "metadata": {},
     "output_type": "execute_result"
    }
   ],
   "source": [
    "np.random.rand(3, 5) # array with random elements (uniform distribution)"
   ]
  },
  {
   "cell_type": "code",
   "execution_count": 19,
   "id": "fb467344",
   "metadata": {},
   "outputs": [
    {
     "data": {
      "text/plain": [
       "array([[-0.72863147, -0.09187488,  1.28692815, -0.87845464, -0.57578936],\n",
       "       [-1.99664705,  3.24757882, -1.70987354, -1.4922923 , -0.33836573],\n",
       "       [-0.79154043,  1.50696913,  0.90485648, -0.64201464, -0.7089726 ]])"
      ]
     },
     "execution_count": 19,
     "metadata": {},
     "output_type": "execute_result"
    }
   ],
   "source": [
    "np.random.randn(3, 5) # array with random elements with a normal / Gaussian distribution of mean 0 and variance 1"
   ]
  },
  {
   "cell_type": "code",
   "execution_count": 20,
   "id": "d545f21f",
   "metadata": {},
   "outputs": [],
   "source": [
    "import matplotlib.pyplot as plt"
   ]
  },
  {
   "cell_type": "code",
   "execution_count": 21,
   "id": "b300ed9c",
   "metadata": {},
   "outputs": [
    {
     "data": {
      "image/png": "[encoded data removed]",
      "text/plain": [
       "<Figure size 640x480 with 1 Axes>"
      ]
     },
     "metadata": {},
     "output_type": "display_data"
    }
   ],
   "source": [
    "# Example of the usage of the uniform and normal distribution\n",
    "plt.hist(np.random.rand(100_000), density=True, bins=100, histtype='step', color='b', label='rand') # uniform\n",
    "plt.hist(np.random.randn(100_000), density=True, bins=100, histtype='step', color='r', label='randn') # normal\n",
    "plt.axis([-3, 3, 0, 1.1])\n",
    "plt.legend(loc = 'upper left')\n",
    "plt.title('Random distributions')\n",
    "plt.xlabel('Value')\n",
    "plt.ylabel('Density')\n",
    "plt.show()"
   ]
  },
  {
   "cell_type": "code",
   "execution_count": 22,
   "id": "313942ed",
   "metadata": {},
   "outputs": [
    {
     "data": {
      "text/plain": [
       "array([[[0.00000000e+00, 2.00000000e+00, 4.00000000e+00, 6.00000000e+00,\n",
       "         8.00000000e+00, 1.00000000e+01, 1.20000000e+01, 1.40000000e+01,\n",
       "         1.60000000e+01, 1.80000000e+01, 2.00000000e+01, 2.20000000e+01,\n",
       "         2.40000000e+01, 2.60000000e+01, 2.80000000e+01, 3.00000000e+01,\n",
       "         3.20000000e+01, 3.40000000e+01, 3.60000000e+01, 3.80000000e+01,\n",
       "         4.00000000e+01, 4.20000000e+01, 4.40000000e+01, 4.60000000e+01,\n",
       "         4.80000000e+01, 5.00000000e+01, 5.20000000e+01, 5.40000000e+01,\n",
       "         5.60000000e+01, 5.80000000e+01, 6.00000000e+01, 6.20000000e+01,\n",
       "         6.40000000e+01, 6.60000000e+01, 6.80000000e+01, 7.00000000e+01,\n",
       "         7.20000000e+01, 7.40000000e+01, 7.60000000e+01, 7.80000000e+01,\n",
       "         8.00000000e+01, 8.20000000e+01, 8.40000000e+01, 8.60000000e+01,\n",
       "         8.80000000e+01, 9.00000000e+01, 9.20000000e+01, 9.40000000e+01,\n",
       "         9.60000000e+01, 9.80000000e+01, 1.00000000e+02, 1.02000000e+02,\n",
       "         1.04000000e+02, 1.06000000e+02, 1.08000000e+02, 1.10000000e+02,\n",
       "         1.12000000e+02, 1.14000000e+02, 1.16000000e+02, 1.18000000e+02]],\n",
       "\n",
       "       [[3.33333333e-02, 2.03333333e+00, 4.03333333e+00, 6.03333333e+00,\n",
       "         8.03333333e+00, 1.00333333e+01, 1.20333333e+01, 1.40333333e+01,\n",
       "         1.60333333e+01, 1.80333333e+01, 2.00333333e+01, 2.20333333e+01,\n",
       "         2.40333333e+01, 2.60333333e+01, 2.80333333e+01, 3.00333333e+01,\n",
       "         3.20333333e+01, 3.40333333e+01, 3.60333333e+01, 3.80333333e+01,\n",
       "         4.00333333e+01, 4.20333333e+01, 4.40333333e+01, 4.60333333e+01,\n",
       "         4.80333333e+01, 5.00333333e+01, 5.20333333e+01, 5.40333333e+01,\n",
       "         5.60333333e+01, 5.80333333e+01, 6.00333333e+01, 6.20333333e+01,\n",
       "         6.40333333e+01, 6.60333333e+01, 6.80333333e+01, 7.00333333e+01,\n",
       "         7.20333333e+01, 7.40333333e+01, 7.60333333e+01, 7.80333333e+01,\n",
       "         8.00333333e+01, 8.20333333e+01, 8.40333333e+01, 8.60333333e+01,\n",
       "         8.80333333e+01, 9.00333333e+01, 9.20333333e+01, 9.40333333e+01,\n",
       "         9.60333333e+01, 9.80333333e+01, 1.00033333e+02, 1.02033333e+02,\n",
       "         1.04033333e+02, 1.06033333e+02, 1.08033333e+02, 1.10033333e+02,\n",
       "         1.12033333e+02, 1.14033333e+02, 1.16033333e+02, 1.18033333e+02]]])"
      ]
     },
     "execution_count": 22,
     "metadata": {},
     "output_type": "execute_result"
    }
   ],
   "source": [
    "def axis_function(z, y, x):\n",
    "    return x * 2 + y * 10 + z / 30 \n",
    "\n",
    "np.fromfunction(axis_function, (2, 1, 60))"
   ]
  },
  {
   "cell_type": "markdown",
   "id": "f4f470f6",
   "metadata": {},
   "source": [
    "## Array data"
   ]
  },
  {
   "cell_type": "code",
   "execution_count": 23,
   "id": "3d0c2400",
   "metadata": {},
   "outputs": [
    {
     "name": "stdout",
     "output_type": "stream",
     "text": [
      "int32 [1 2 3 4 5 6 7 8 9]\n"
     ]
    }
   ],
   "source": [
    "c = np.arange(1, 10)\n",
    "print(c.dtype, c) # data type check using dtype attribute"
   ]
  },
  {
   "cell_type": "code",
   "execution_count": 24,
   "id": "38ac07f4",
   "metadata": {},
   "outputs": [
    {
     "name": "stdout",
     "output_type": "stream",
     "text": [
      "complex64 [1.+0.j 2.+0.j 3.+0.j 4.+0.j 5.+0.j 6.+0.j 7.+0.j 8.+0.j 9.+0.j]\n"
     ]
    }
   ],
   "source": [
    "c = np.arange(1, 10, dtype=np.complex64) # specify directly what datatype to use\n",
    "print(c.dtype, c)"
   ]
  },
  {
   "cell_type": "code",
   "execution_count": 25,
   "id": "aa44166f",
   "metadata": {},
   "outputs": [
    {
     "data": {
      "text/plain": [
       "8"
      ]
     },
     "execution_count": 25,
     "metadata": {},
     "output_type": "execute_result"
    }
   ],
   "source": [
    "c.itemsize # return the size (in bytes) of each item"
   ]
  },
  {
   "cell_type": "code",
   "execution_count": 26,
   "id": "89b45852",
   "metadata": {},
   "outputs": [
    {
     "data": {
      "text/plain": [
       "<memory at 0x0000020441D8A440>"
      ]
     },
     "execution_count": 26,
     "metadata": {},
     "output_type": "execute_result"
    }
   ],
   "source": [
    "# data buffer - return a memory location (buffer - py2, memoryview - py3) with a stored arrays \n",
    "# (that is actualy stored in memory as a flat (one dimensional) byte buffer)\n",
    "\n",
    "c.data "
   ]
  },
  {
   "cell_type": "markdown",
   "id": "39c386ba",
   "metadata": {},
   "source": [
    "## Reshaping an array"
   ]
  },
  {
   "cell_type": "code",
   "execution_count": 27,
   "id": "3340e9cd",
   "metadata": {},
   "outputs": [
    {
     "name": "stdout",
     "output_type": "stream",
     "text": [
      "[ 0  1  2  3  4  5  6  7  8  9 10 11 12 13 14 15 16 17 18 19]\n",
      "Rank: 1\n"
     ]
    }
   ],
   "source": [
    "g = np.arange(20)\n",
    "print(g)\n",
    "print('Rank:', g.ndim)"
   ]
  },
  {
   "cell_type": "code",
   "execution_count": 28,
   "id": "2b3e7ff7",
   "metadata": {},
   "outputs": [
    {
     "name": "stdout",
     "output_type": "stream",
     "text": [
      "[[ 0  1  2  3]\n",
      " [ 4  5  6  7]\n",
      " [ 8  9 10 11]\n",
      " [12 13 14 15]\n",
      " [16 17 18 19]]\n",
      "Rank 2\n"
     ]
    }
   ],
   "source": [
    "g.shape = (5, 4) # array reshaping\n",
    "print(g)\n",
    "print('Rank', g.ndim)"
   ]
  },
  {
   "cell_type": "code",
   "execution_count": 29,
   "id": "f0280104",
   "metadata": {},
   "outputs": [
    {
     "name": "stdout",
     "output_type": "stream",
     "text": [
      "[[[ 0  1]\n",
      "  [ 2  3]]\n",
      "\n",
      " [[ 4  5]\n",
      "  [ 6  7]]\n",
      "\n",
      " [[ 8  9]\n",
      "  [10 11]]\n",
      "\n",
      " [[12 13]\n",
      "  [14 15]]\n",
      "\n",
      " [[16 17]\n",
      "  [18 19]]]\n",
      "Rank 3\n"
     ]
    }
   ],
   "source": [
    "g.shape = (5, 2, 2)\n",
    "print(g)\n",
    "print('Rank', g.ndim)"
   ]
  },
  {
   "cell_type": "code",
   "execution_count": 30,
   "id": "9a369f63",
   "metadata": {},
   "outputs": [
    {
     "name": "stdout",
     "output_type": "stream",
     "text": [
      "[[[ 0  1  2  3  4]\n",
      "  [ 5  6  7  8  9]]\n",
      "\n",
      " [[10 11 12 13 14]\n",
      "  [15 16 17 18 19]]]\n",
      "Rank 3\n"
     ]
    }
   ],
   "source": [
    "g2 = g.reshape(2, 2, 5) # array is reshaped, but modifying the original array will also modify the other.\n",
    "print(g2)\n",
    "print('Rank', g2.ndim)"
   ]
  },
  {
   "cell_type": "code",
   "execution_count": 31,
   "id": "4279c473",
   "metadata": {},
   "outputs": [
    {
     "data": {
      "text/plain": [
       "array([[[999,   1,   2,   3,   4],\n",
       "        [  5,   6,   7,   8,   9]],\n",
       "\n",
       "       [[ 10,  11,  12,  13,  14],\n",
       "        [ 15,  16,  17,  18,  19]]])"
      ]
     },
     "execution_count": 31,
     "metadata": {},
     "output_type": "execute_result"
    }
   ],
   "source": [
    "g2[0, 0, 0] = 999\n",
    "g2"
   ]
  },
  {
   "cell_type": "code",
   "execution_count": 32,
   "id": "8b74a3b4",
   "metadata": {},
   "outputs": [
    {
     "data": {
      "text/plain": [
       "array([[[999,   1],\n",
       "        [  2,   3]],\n",
       "\n",
       "       [[  4,   5],\n",
       "        [  6,   7]],\n",
       "\n",
       "       [[  8,   9],\n",
       "        [ 10,  11]],\n",
       "\n",
       "       [[ 12,  13],\n",
       "        [ 14,  15]],\n",
       "\n",
       "       [[ 16,  17],\n",
       "        [ 18,  19]]])"
      ]
     },
     "execution_count": 32,
     "metadata": {},
     "output_type": "execute_result"
    }
   ],
   "source": [
    "g"
   ]
  },
  {
   "cell_type": "code",
   "execution_count": 33,
   "id": "8e9aee48",
   "metadata": {},
   "outputs": [
    {
     "data": {
      "text/plain": [
       "array([999,   1,   2,   3,   4,   5,   6,   7,   8,   9,  10,  11,  12,\n",
       "        13,  14,  15,  16,  17,  18,  19])"
      ]
     },
     "execution_count": 33,
     "metadata": {},
     "output_type": "execute_result"
    }
   ],
   "source": [
    "g.ravel() # return a new one-dimensional ndarray that also points to the same data"
   ]
  },
  {
   "cell_type": "markdown",
   "id": "f30184ba",
   "metadata": {},
   "source": [
    "###### Broadcasting rules\n",
    "\n",
    "* First rule: If the array does not have the same rank, then a 1 will be prepended to the smaller ranking arrays until their ranks match.\n",
    "* Second rule: Arrays with a 1 along a particular dimension act as if they had the size of the array with the largest shape along that dimension. The value of the array element is repeated along that dimension.\n",
    "* Third rule: after rules 1 & 2, the sizes of all arrays must match."
   ]
  },
  {
   "cell_type": "markdown",
   "id": "3a1b93ef",
   "metadata": {},
   "source": [
    "###### Upcasting\n",
    "\n",
    "When trying to combine arrays with different dtypes, NumPy will upcast to a type capable of handling all possible values (regardless of what the actual values are)."
   ]
  },
  {
   "cell_type": "code",
   "execution_count": 34,
   "id": "88f9505c",
   "metadata": {},
   "outputs": [
    {
     "name": "stdout",
     "output_type": "stream",
     "text": [
      "uint8 [0 1 2 3 4]\n"
     ]
    }
   ],
   "source": [
    "k1 = np.arange(0, 5, dtype=np.uint8)\n",
    "print(k1.dtype, k1)"
   ]
  },
  {
   "cell_type": "code",
   "execution_count": 35,
   "id": "5d335762",
   "metadata": {},
   "outputs": [
    {
     "name": "stdout",
     "output_type": "stream",
     "text": [
      "int16 [0 2 4 6 8]\n"
     ]
    }
   ],
   "source": [
    "k2 = k1 + np.array(range(5), dtype=np.int8)\n",
    "print(k2.dtype, k2)"
   ]
  },
  {
   "cell_type": "code",
   "execution_count": 36,
   "id": "d62aae4c",
   "metadata": {},
   "outputs": [
    {
     "name": "stdout",
     "output_type": "stream",
     "text": [
      "float64 [1.5 2.5 3.5 4.5 5.5]\n"
     ]
    }
   ],
   "source": [
    "k3 = k1 + 1.5\n",
    "print(k3.dtype, k3)"
   ]
  },
  {
   "cell_type": "markdown",
   "id": "f6dc17ef",
   "metadata": {},
   "source": [
    "###### Conditional operators"
   ]
  },
  {
   "cell_type": "code",
   "execution_count": 37,
   "id": "61a2ad33",
   "metadata": {},
   "outputs": [
    {
     "data": {
      "text/plain": [
       "array([False,  True,  True, False])"
      ]
     },
     "execution_count": 37,
     "metadata": {},
     "output_type": "execute_result"
    }
   ],
   "source": [
    "m = np.array([20, -5, 30, 40])\n",
    "m < [15, 16, 35, 36]"
   ]
  },
  {
   "cell_type": "code",
   "execution_count": 38,
   "id": "b92af183",
   "metadata": {},
   "outputs": [
    {
     "data": {
      "text/plain": [
       "array([False,  True, False, False])"
      ]
     },
     "execution_count": 38,
     "metadata": {},
     "output_type": "execute_result"
    }
   ],
   "source": [
    "m < 20"
   ]
  },
  {
   "cell_type": "code",
   "execution_count": 39,
   "id": "58d36c68",
   "metadata": {},
   "outputs": [
    {
     "data": {
      "text/plain": [
       "array([-5])"
      ]
     },
     "execution_count": 39,
     "metadata": {},
     "output_type": "execute_result"
    }
   ],
   "source": [
    "m[m < 20]"
   ]
  },
  {
   "cell_type": "markdown",
   "id": "4207e380",
   "metadata": {},
   "source": [
    "## Mathematical and statistical functions"
   ]
  },
  {
   "cell_type": "markdown",
   "id": "57893e67",
   "metadata": {},
   "source": [
    "Some ndarray methods:"
   ]
  },
  {
   "cell_type": "code",
   "execution_count": 40,
   "id": "80c38049",
   "metadata": {},
   "outputs": [],
   "source": [
    "a = np.array([[-2.5, 3.1, 7], [10, 11, 12]])"
   ]
  },
  {
   "cell_type": "code",
   "execution_count": 41,
   "id": "2e488ae7",
   "metadata": {},
   "outputs": [
    {
     "data": {
      "text/plain": [
       "6.766666666666667"
      ]
     },
     "execution_count": 41,
     "metadata": {},
     "output_type": "execute_result"
    }
   ],
   "source": [
    "a.mean()"
   ]
  },
  {
   "cell_type": "code",
   "execution_count": 42,
   "id": "3a35137e",
   "metadata": {},
   "outputs": [
    {
     "data": {
      "text/plain": [
       "12.0"
      ]
     },
     "execution_count": 42,
     "metadata": {},
     "output_type": "execute_result"
    }
   ],
   "source": [
    "a.max()"
   ]
  },
  {
   "cell_type": "code",
   "execution_count": 43,
   "id": "e580ba63",
   "metadata": {},
   "outputs": [
    {
     "data": {
      "text/plain": [
       "-2.5"
      ]
     },
     "execution_count": 43,
     "metadata": {},
     "output_type": "execute_result"
    }
   ],
   "source": [
    "a.min()"
   ]
  },
  {
   "cell_type": "code",
   "execution_count": 44,
   "id": "30e583d0",
   "metadata": {},
   "outputs": [
    {
     "data": {
      "text/plain": [
       "40.6"
      ]
     },
     "execution_count": 44,
     "metadata": {},
     "output_type": "execute_result"
    }
   ],
   "source": [
    "a.sum()"
   ]
  },
  {
   "cell_type": "code",
   "execution_count": 45,
   "id": "0e3c86f1",
   "metadata": {},
   "outputs": [
    {
     "data": {
      "text/plain": [
       "40.6"
      ]
     },
     "execution_count": 45,
     "metadata": {},
     "output_type": "execute_result"
    }
   ],
   "source": [
    "sum(sum(a)) # the result is the same as a.sum()"
   ]
  },
  {
   "cell_type": "code",
   "execution_count": 46,
   "id": "d49299a8",
   "metadata": {},
   "outputs": [
    {
     "data": {
      "text/plain": [
       "-71610.0"
      ]
     },
     "execution_count": 46,
     "metadata": {},
     "output_type": "execute_result"
    }
   ],
   "source": [
    "a.prod()"
   ]
  },
  {
   "cell_type": "code",
   "execution_count": 47,
   "id": "7d2e2fdd",
   "metadata": {},
   "outputs": [
    {
     "data": {
      "text/plain": [
       "5.084835843520964"
      ]
     },
     "execution_count": 47,
     "metadata": {},
     "output_type": "execute_result"
    }
   ],
   "source": [
    "a.std()"
   ]
  },
  {
   "cell_type": "code",
   "execution_count": 48,
   "id": "3e256aa1",
   "metadata": {},
   "outputs": [
    {
     "data": {
      "text/plain": [
       "25.855555555555554"
      ]
     },
     "execution_count": 48,
     "metadata": {},
     "output_type": "execute_result"
    }
   ],
   "source": [
    "a.var()"
   ]
  },
  {
   "cell_type": "markdown",
   "id": "e989bda9",
   "metadata": {},
   "source": [
    "These functions accept an optional argument axis which lets you ask for the operation to be performed on elements along the given axis."
   ]
  },
  {
   "cell_type": "code",
   "execution_count": 49,
   "id": "d6395ad2",
   "metadata": {},
   "outputs": [
    {
     "data": {
      "text/plain": [
       "array([[[ 0,  1,  2,  3],\n",
       "        [ 4,  5,  6,  7],\n",
       "        [ 8,  9, 10, 11]],\n",
       "\n",
       "       [[12, 13, 14, 15],\n",
       "        [16, 17, 18, 19],\n",
       "        [20, 21, 22, 23]]])"
      ]
     },
     "execution_count": 49,
     "metadata": {},
     "output_type": "execute_result"
    }
   ],
   "source": [
    "c=np.arange(24).reshape(2, 3, 4)\n",
    "c"
   ]
  },
  {
   "cell_type": "code",
   "execution_count": 50,
   "id": "01ef6770",
   "metadata": {},
   "outputs": [
    {
     "data": {
      "text/plain": [
       "array([[12, 15, 18, 21],\n",
       "       [48, 51, 54, 57]])"
      ]
     },
     "execution_count": 50,
     "metadata": {},
     "output_type": "execute_result"
    }
   ],
   "source": [
    "c.sum(axis=1)"
   ]
  },
  {
   "cell_type": "markdown",
   "id": "bfcc62c1",
   "metadata": {},
   "source": [
    "## Universal functions"
   ]
  },
  {
   "cell_type": "markdown",
   "id": "71a52e93",
   "metadata": {},
   "source": [
    "__Unversal function__ - vectorized wrappers of simple functions. For example ```square``` returns a new _ndarray_ which is a copy of the original _ndarray_ except that each element is squared."
   ]
  },
  {
   "cell_type": "code",
   "execution_count": 54,
   "id": "3d08be69",
   "metadata": {},
   "outputs": [
    {
     "data": {
      "text/plain": [
       "array([[  6.25,   9.61,  49.  ],\n",
       "       [100.  , 121.  , 144.  ]])"
      ]
     },
     "execution_count": 54,
     "metadata": {},
     "output_type": "execute_result"
    }
   ],
   "source": [
    "a = np.array([[-2.5, 3.1, 7], [10, 11, 12]])\n",
    "np.square(a) # compute a square of each element in a list"
   ]
  },
  {
   "cell_type": "code",
   "execution_count": 55,
   "id": "5a98287f",
   "metadata": {},
   "outputs": [
    {
     "name": "stdout",
     "output_type": "stream",
     "text": [
      "Original ndarray\n",
      "[[-2.5  3.1  7. ]\n",
      " [10.  11.  12. ]]\n",
      "\n",
      " absolute\n",
      "[[ 2.5  3.1  7. ]\n",
      " [10.  11.  12. ]]\n",
      "\n",
      " sqrt\n",
      "[[       nan 1.76068169 2.64575131]\n",
      " [3.16227766 3.31662479 3.46410162]]\n",
      "\n",
      " exp\n",
      "[[8.20849986e-02 2.21979513e+01 1.09663316e+03]\n",
      " [2.20264658e+04 5.98741417e+04 1.62754791e+05]]\n",
      "\n",
      " log\n",
      "[[       nan 1.13140211 1.94591015]\n",
      " [2.30258509 2.39789527 2.48490665]]\n",
      "\n",
      " sign\n",
      "[[-1.  1.  1.]\n",
      " [ 1.  1.  1.]]\n",
      "\n",
      " ceil\n",
      "[[-2.  4.  7.]\n",
      " [10. 11. 12.]]\n",
      "\n",
      " modf\n",
      "(array([[-0.5,  0.1,  0. ],\n",
      "       [ 0. ,  0. ,  0. ]]), array([[-2.,  3.,  7.],\n",
      "       [10., 11., 12.]]))\n",
      "\n",
      " isnan\n",
      "[[False False False]\n",
      " [False False False]]\n",
      "\n",
      " cos\n",
      "[[-0.80114362 -0.99913515  0.75390225]\n",
      " [-0.83907153  0.0044257   0.84385396]]\n",
      "\n",
      " sin\n",
      "[[-0.59847214  0.04158066  0.6569866 ]\n",
      " [-0.54402111 -0.99999021 -0.53657292]]\n",
      "\n",
      " tan\n",
      "[[ 7.47022297e-01 -4.16166546e-02  8.71447983e-01]\n",
      " [ 6.48360827e-01 -2.25950846e+02 -6.35859929e-01]]\n"
     ]
    },
    {
     "name": "stderr",
     "output_type": "stream",
     "text": [
      "C:\\Users\\jester\\AppData\\Local\\Temp\\ipykernel_14596\\403874035.py:5: RuntimeWarning: invalid value encountered in sqrt\n",
      "  print(func(a))\n",
      "C:\\Users\\jester\\AppData\\Local\\Temp\\ipykernel_14596\\403874035.py:5: RuntimeWarning: invalid value encountered in log\n",
      "  print(func(a))\n"
     ]
    }
   ],
   "source": [
    "print('Original ndarray')\n",
    "print(a)\n",
    "for func in (np.abs, np.sqrt, np.exp, np.log, np.sign, np.ceil, np.modf, np.isnan, np.cos, np.sin, np.tan):\n",
    "    print('\\n', func.__name__)\n",
    "    print(func(a))"
   ]
  },
  {
   "cell_type": "markdown",
   "id": "4b9724a3",
   "metadata": {},
   "source": [
    "The two warnings are due to the fact that sqrt() and log() are undefined for negative numbers, which is why there is a np.nan value in the first cell of the output of these two functions."
   ]
  },
  {
   "cell_type": "markdown",
   "id": "e0f36505",
   "metadata": {},
   "source": [
    "## Binary ufuncs"
   ]
  },
  {
   "cell_type": "code",
   "execution_count": 56,
   "id": "f3ea543d",
   "metadata": {},
   "outputs": [],
   "source": [
    "a = np.array([1, -2, 3, 4])\n",
    "b = np.array([2, 8, -1, 7])"
   ]
  },
  {
   "cell_type": "code",
   "execution_count": 57,
   "id": "10d03684",
   "metadata": {},
   "outputs": [
    {
     "data": {
      "text/plain": [
       "array([ 3,  6,  2, 11])"
      ]
     },
     "execution_count": 57,
     "metadata": {},
     "output_type": "execute_result"
    }
   ],
   "source": [
    "np.add(a, b)"
   ]
  },
  {
   "cell_type": "code",
   "execution_count": 58,
   "id": "7b17b327",
   "metadata": {},
   "outputs": [
    {
     "data": {
      "text/plain": [
       "array([False, False,  True, False])"
      ]
     },
     "execution_count": 58,
     "metadata": {},
     "output_type": "execute_result"
    }
   ],
   "source": [
    "np.greater(a, b)"
   ]
  },
  {
   "cell_type": "code",
   "execution_count": 59,
   "id": "34561d33",
   "metadata": {},
   "outputs": [
    {
     "data": {
      "text/plain": [
       "array([2, 8, 3, 7])"
      ]
     },
     "execution_count": 59,
     "metadata": {},
     "output_type": "execute_result"
    }
   ],
   "source": [
    "np.maximum(a, b)"
   ]
  },
  {
   "cell_type": "code",
   "execution_count": 60,
   "id": "06b62e7f",
   "metadata": {},
   "outputs": [
    {
     "data": {
      "text/plain": [
       "array([ 1.,  2., -3.,  4.])"
      ]
     },
     "execution_count": 60,
     "metadata": {},
     "output_type": "execute_result"
    }
   ],
   "source": [
    "np.copysign(a, b)"
   ]
  },
  {
   "cell_type": "markdown",
   "id": "ec777baf",
   "metadata": {},
   "source": [
    "## Array indexing"
   ]
  },
  {
   "cell_type": "code",
   "execution_count": 69,
   "id": "91140055",
   "metadata": {},
   "outputs": [],
   "source": [
    "a = np.array([1, 5, 3, 19, 13, 7, 3])"
   ]
  },
  {
   "cell_type": "code",
   "execution_count": 62,
   "id": "2baa8ae2",
   "metadata": {},
   "outputs": [
    {
     "data": {
      "text/plain": [
       "array([ 3, 19, 13,  7])"
      ]
     },
     "execution_count": 62,
     "metadata": {},
     "output_type": "execute_result"
    }
   ],
   "source": [
    "a[2:-1]"
   ]
  },
  {
   "cell_type": "code",
   "execution_count": 63,
   "id": "fba35e69",
   "metadata": {},
   "outputs": [
    {
     "data": {
      "text/plain": [
       "array([ 1, 99,  3, 19, 13,  7,  3])"
      ]
     },
     "execution_count": 63,
     "metadata": {},
     "output_type": "execute_result"
    }
   ],
   "source": [
    "a[1] = 99\n",
    "a"
   ]
  },
  {
   "cell_type": "code",
   "execution_count": 74,
   "id": "859ff288",
   "metadata": {},
   "outputs": [
    {
     "data": {
      "text/plain": [
       "array([91,  8,  3, 19, 13,  7,  3])"
      ]
     },
     "execution_count": 74,
     "metadata": {},
     "output_type": "execute_result"
    }
   ],
   "source": [
    "a[:2] = 91, 8.4\n",
    "a"
   ]
  },
  {
   "cell_type": "markdown",
   "id": "467417a8",
   "metadata": {},
   "source": [
    "#### Differences with regular python arrays"
   ]
  },
  {
   "cell_type": "markdown",
   "id": "9a4ab28b",
   "metadata": {},
   "source": [
    "If you assign a single value to an ndarray slice, it is copied across the whole slice, thanks to broadcasting rules discussed above."
   ]
  },
  {
   "cell_type": "code",
   "execution_count": 77,
   "id": "4dfca03f",
   "metadata": {},
   "outputs": [
    {
     "data": {
      "text/plain": [
       "array([91,  8,  3,  4,  4,  4,  4])"
      ]
     },
     "execution_count": 77,
     "metadata": {},
     "output_type": "execute_result"
    }
   ],
   "source": [
    "a[3:] = 4\n",
    "a"
   ]
  },
  {
   "cell_type": "markdown",
   "id": "a44828d6",
   "metadata": {},
   "source": [
    "It is impossible to grow or shrink ndarrays this way:"
   ]
  },
  {
   "cell_type": "code",
   "execution_count": 78,
   "id": "e89d1547",
   "metadata": {},
   "outputs": [
    {
     "name": "stdout",
     "output_type": "stream",
     "text": [
      "could not broadcast input array from shape (6,) into shape (3,)\n"
     ]
    }
   ],
   "source": [
    "try:\n",
    "    a[2:5] = [1,2,3,4,5,6]  # too long\n",
    "except ValueError as e:\n",
    "    print(e)"
   ]
  },
  {
   "cell_type": "markdown",
   "id": "1a983cf1",
   "metadata": {},
   "source": [
    "You cannot delete elements either:"
   ]
  },
  {
   "cell_type": "code",
   "execution_count": 79,
   "id": "2abaa85e",
   "metadata": {},
   "outputs": [
    {
     "name": "stdout",
     "output_type": "stream",
     "text": [
      "cannot delete array elements\n"
     ]
    }
   ],
   "source": [
    "try:\n",
    "    del a[2:5]\n",
    "except ValueError as e:\n",
    "    print(e)"
   ]
  },
  {
   "cell_type": "markdown",
   "id": "f616c8c3",
   "metadata": {},
   "source": [
    "ndarray slices are actually *views* on the same data buffer. This means that if you create a slice and modify it, you are actually going to modify the original ndarray as well."
   ]
  },
  {
   "cell_type": "code",
   "execution_count": 84,
   "id": "6b315cd4",
   "metadata": {},
   "outputs": [
    {
     "name": "stdout",
     "output_type": "stream",
     "text": [
      "The original array: \t[  91    8    3 1000    4    4    4]\n",
      "The copied array: \t[   3 1000    4]\n"
     ]
    }
   ],
   "source": [
    "a_slice = a[2:5]\n",
    "a_slice[1] = 1000\n",
    "print(f'The original array: \\t{a}')\n",
    "print(f'The copied array: \\t{a_slice}')"
   ]
  },
  {
   "cell_type": "markdown",
   "id": "7ed581ba",
   "metadata": {},
   "source": [
    "## Multidimensional arrays"
   ]
  },
  {
   "cell_type": "code",
   "execution_count": 86,
   "id": "a5df4aba",
   "metadata": {},
   "outputs": [
    {
     "data": {
      "text/plain": [
       "array([[ 0,  1,  2,  3,  4,  5,  6,  7,  8,  9, 10, 11],\n",
       "       [12, 13, 14, 15, 16, 17, 18, 19, 20, 21, 22, 23],\n",
       "       [24, 25, 26, 27, 28, 29, 30, 31, 32, 33, 34, 35],\n",
       "       [36, 37, 38, 39, 40, 41, 42, 43, 44, 45, 46, 47]])"
      ]
     },
     "execution_count": 86,
     "metadata": {},
     "output_type": "execute_result"
    }
   ],
   "source": [
    "b = np.arange(48).reshape(4, 12)\n",
    "b"
   ]
  },
  {
   "cell_type": "code",
   "execution_count": 89,
   "id": "b167c066",
   "metadata": {},
   "outputs": [
    {
     "data": {
      "text/plain": [
       "25"
      ]
     },
     "execution_count": 89,
     "metadata": {},
     "output_type": "execute_result"
    }
   ],
   "source": [
    "b[2, 1] # row 2, col 1"
   ]
  },
  {
   "cell_type": "code",
   "execution_count": 92,
   "id": "4151e96d",
   "metadata": {},
   "outputs": [
    {
     "data": {
      "text/plain": [
       "array([25, 37])"
      ]
     },
     "execution_count": 92,
     "metadata": {},
     "output_type": "execute_result"
    }
   ],
   "source": [
    "b[2:, 1] # row 2 and more, col 1"
   ]
  },
  {
   "cell_type": "markdown",
   "id": "67d1da54",
   "metadata": {},
   "source": [
    "# Fancy indexing"
   ]
  },
  {
   "cell_type": "markdown",
   "id": "04bea511",
   "metadata": {},
   "source": [
    "You may also specify a list of indices that you are interested in. This is referred to as fancy indexing."
   ]
  },
  {
   "cell_type": "code",
   "execution_count": 94,
   "id": "fc7b6497",
   "metadata": {},
   "outputs": [
    {
     "data": {
      "text/plain": [
       "array([[15, 16],\n",
       "       [27, 28]])"
      ]
     },
     "execution_count": 94,
     "metadata": {},
     "output_type": "execute_result"
    }
   ],
   "source": [
    "b[(1, 2), 3:5] # rows 1 and 2, columns 3 to 4"
   ]
  },
  {
   "cell_type": "code",
   "execution_count": 95,
   "id": "1d2a6ce4",
   "metadata": {},
   "outputs": [
    {
     "data": {
      "text/plain": [
       "array([[10,  3, 10],\n",
       "       [22, 15, 22],\n",
       "       [34, 27, 34],\n",
       "       [46, 39, 46]])"
      ]
     },
     "execution_count": 95,
     "metadata": {},
     "output_type": "execute_result"
    }
   ],
   "source": [
    "b[:, (-2, 3, -2)] # all rows, columns -2 (second last), 3, and -2"
   ]
  },
  {
   "cell_type": "markdown",
   "id": "5a2fbcd0",
   "metadata": {},
   "source": [
    "## Higher dimensions"
   ]
  },
  {
   "cell_type": "code",
   "execution_count": 97,
   "id": "335f6ac3",
   "metadata": {},
   "outputs": [
    {
     "data": {
      "text/plain": [
       "array([[[ 0,  1,  2,  3,  4,  5],\n",
       "        [ 6,  7,  8,  9, 10, 11]],\n",
       "\n",
       "       [[12, 13, 14, 15, 16, 17],\n",
       "        [18, 19, 20, 21, 22, 23]],\n",
       "\n",
       "       [[24, 25, 26, 27, 28, 29],\n",
       "        [30, 31, 32, 33, 34, 35]],\n",
       "\n",
       "       [[36, 37, 38, 39, 40, 41],\n",
       "        [42, 43, 44, 45, 46, 47]]])"
      ]
     },
     "execution_count": 97,
     "metadata": {},
     "output_type": "execute_result"
    }
   ],
   "source": [
    "c = b.reshape(4, 2, 6)\n",
    "c"
   ]
  },
  {
   "cell_type": "code",
   "execution_count": 101,
   "id": "ca4299bb",
   "metadata": {},
   "outputs": [
    {
     "data": {
      "text/plain": [
       "array([42, 43, 44, 45, 46, 47])"
      ]
     },
     "execution_count": 101,
     "metadata": {},
     "output_type": "execute_result"
    }
   ],
   "source": [
    "c[3, 1] # Return matrix 3, row 1, all columns. This is equivalent to c[3, 1, :]"
   ]
  },
  {
   "cell_type": "code",
   "execution_count": 102,
   "id": "fe27d0cd",
   "metadata": {},
   "outputs": [
    {
     "data": {
      "text/plain": [
       "34"
      ]
     },
     "execution_count": 102,
     "metadata": {},
     "output_type": "execute_result"
    }
   ],
   "source": [
    "c[2, 1, 4] # matrix 2, row 1, column 4"
   ]
  },
  {
   "cell_type": "markdown",
   "id": "57ef2213",
   "metadata": {},
   "source": [
    "## Ellipsis (```...```)"
   ]
  },
  {
   "cell_type": "markdown",
   "id": "e235d1b9",
   "metadata": {},
   "source": [
    "You may also write an ellipsis (...) to ask that all non-specified axes be entirely included."
   ]
  },
  {
   "cell_type": "code",
   "execution_count": 104,
   "id": "beaf966a",
   "metadata": {},
   "outputs": [
    {
     "data": {
      "text/plain": [
       "array([[[ 0,  1,  2,  3,  4,  5],\n",
       "        [ 6,  7,  8,  9, 10, 11]],\n",
       "\n",
       "       [[12, 13, 14, 15, 16, 17],\n",
       "        [18, 19, 20, 21, 22, 23]],\n",
       "\n",
       "       [[24, 25, 26, 27, 28, 29],\n",
       "        [30, 31, 32, 33, 34, 35]],\n",
       "\n",
       "       [[36, 37, 38, 39, 40, 41],\n",
       "        [42, 43, 44, 45, 46, 47]]])"
      ]
     },
     "execution_count": 104,
     "metadata": {},
     "output_type": "execute_result"
    }
   ],
   "source": [
    "c[...] # all matrxises, rows and column"
   ]
  },
  {
   "cell_type": "code",
   "execution_count": 105,
   "id": "1016c21f",
   "metadata": {},
   "outputs": [
    {
     "data": {
      "text/plain": [
       "array([[ 3,  9],\n",
       "       [15, 21],\n",
       "       [27, 33],\n",
       "       [39, 45]])"
      ]
     },
     "execution_count": 105,
     "metadata": {},
     "output_type": "execute_result"
    }
   ],
   "source": [
    "c[..., 3] # All matrixes, all rows and colmn 3. This is rquivalent to c[:, :, 3]"
   ]
  },
  {
   "cell_type": "markdown",
   "id": "f9725c44",
   "metadata": {},
   "source": [
    "## Boolean indexing"
   ]
  },
  {
   "cell_type": "markdown",
   "id": "4d67dc28",
   "metadata": {},
   "source": [
    "You can also provide an ndarray of boolean values on one axis to specify the indices that you want to access."
   ]
  },
  {
   "cell_type": "code",
   "execution_count": 107,
   "id": "670232ff",
   "metadata": {},
   "outputs": [
    {
     "data": {
      "text/plain": [
       "array([[ 0,  1,  2,  3,  4,  5,  6,  7,  8,  9, 10, 11],\n",
       "       [12, 13, 14, 15, 16, 17, 18, 19, 20, 21, 22, 23],\n",
       "       [24, 25, 26, 27, 28, 29, 30, 31, 32, 33, 34, 35],\n",
       "       [36, 37, 38, 39, 40, 41, 42, 43, 44, 45, 46, 47]])"
      ]
     },
     "execution_count": 107,
     "metadata": {},
     "output_type": "execute_result"
    }
   ],
   "source": [
    "b = np.arange(48).reshape(4, 12)\n",
    "b"
   ]
  },
  {
   "cell_type": "code",
   "execution_count": 112,
   "id": "16bdacad",
   "metadata": {},
   "outputs": [
    {
     "data": {
      "text/plain": [
       "array([[ 0,  1,  2,  3,  4,  5,  6,  7,  8,  9, 10, 11],\n",
       "       [24, 25, 26, 27, 28, 29, 30, 31, 32, 33, 34, 35],\n",
       "       [36, 37, 38, 39, 40, 41, 42, 43, 44, 45, 46, 47]])"
      ]
     },
     "execution_count": 112,
     "metadata": {},
     "output_type": "execute_result"
    }
   ],
   "source": [
    "rows_on = np.array([True, False, True, True])\n",
    "b[rows_on, :] # Rows 0 and 2, all columns. Equivalent to b[(0, 2), :]"
   ]
  },
  {
   "cell_type": "code",
   "execution_count": 113,
   "id": "4322de51",
   "metadata": {},
   "outputs": [
    {
     "data": {
      "text/plain": [
       "array([[ 1,  4,  7, 10],\n",
       "       [13, 16, 19, 22],\n",
       "       [25, 28, 31, 34],\n",
       "       [37, 40, 43, 46]])"
      ]
     },
     "execution_count": 113,
     "metadata": {},
     "output_type": "execute_result"
    }
   ],
   "source": [
    "cols_on = np.array([False, True, False] * 4)\n",
    "b[:, cols_on] # All rows, columns 1, 4, 7 and 10"
   ]
  },
  {
   "cell_type": "markdown",
   "id": "5b1e5963",
   "metadata": {},
   "source": [
    "## ```np.ix_```"
   ]
  },
  {
   "cell_type": "markdown",
   "id": "02e7a02d",
   "metadata": {},
   "source": [
    "You cannot use boolean indexing this way on multiple axes, but you can work around this by using the ix_ function:"
   ]
  },
  {
   "cell_type": "code",
   "execution_count": 115,
   "id": "412292c0",
   "metadata": {},
   "outputs": [
    {
     "data": {
      "text/plain": [
       "(array([[ 1],\n",
       "        [ 4],\n",
       "        [ 7],\n",
       "        [10]], dtype=int64),\n",
       " array([[0, 2, 3]], dtype=int64))"
      ]
     },
     "execution_count": 115,
     "metadata": {},
     "output_type": "execute_result"
    }
   ],
   "source": [
    "np.ix_(rows_on, cols_on)"
   ]
  },
  {
   "cell_type": "code",
   "execution_count": 118,
   "id": "3515886d",
   "metadata": {},
   "outputs": [
    {
     "data": {
      "text/plain": [
       "array([[ 1,  4,  7, 10],\n",
       "       [25, 28, 31, 34],\n",
       "       [37, 40, 43, 46]])"
      ]
     },
     "execution_count": 118,
     "metadata": {},
     "output_type": "execute_result"
    }
   ],
   "source": [
    "b[np.ix_(rows_on, cols_on)]"
   ]
  },
  {
   "cell_type": "markdown",
   "id": "c0ee1e1f",
   "metadata": {},
   "source": [
    "If you use a boolean array that has the same shape as the ndarray, then you get in return a 1D array containing all the values that have True at their coordinate. This is generally used along with conditional operators:"
   ]
  },
  {
   "cell_type": "code",
   "execution_count": 119,
   "id": "65e19b77",
   "metadata": {},
   "outputs": [
    {
     "data": {
      "text/plain": [
       "array([ 1,  5,  9, 13, 17, 21, 25, 29, 33, 37, 41, 45])"
      ]
     },
     "execution_count": 119,
     "metadata": {},
     "output_type": "execute_result"
    }
   ],
   "source": [
    "b[b % 4 == 1]"
   ]
  },
  {
   "cell_type": "code",
   "execution_count": null,
   "id": "fc6b2871",
   "metadata": {},
   "outputs": [],
   "source": []
  }
 ],
 "metadata": {
  "kernelspec": {
   "display_name": "Python 3 (ipykernel)",
   "language": "python",
   "name": "python3"
  },
  "language_info": {
   "codemirror_mode": {
    "name": "ipython",
    "version": 3
   },
   "file_extension": ".py",
   "mimetype": "text/x-python",
   "name": "python",
   "nbconvert_exporter": "python",
   "pygments_lexer": "ipython3",
   "version": "3.10.13"
  }
 },
 "nbformat": 4,
 "nbformat_minor": 5
}
